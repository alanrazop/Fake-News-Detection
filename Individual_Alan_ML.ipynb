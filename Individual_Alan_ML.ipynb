{
  "nbformat": 4,
  "nbformat_minor": 0,
  "metadata": {
    "colab": {
      "provenance": []
    },
    "kernelspec": {
      "name": "python3",
      "display_name": "Python 3"
    },
    "language_info": {
      "name": "python"
    }
  },
  "cells": [
    {
      "cell_type": "code",
      "source": [
        "from google.colab import drive\n",
        "drive.mount('/content/drive')\n"
      ],
      "metadata": {
        "colab": {
          "base_uri": "https://localhost:8080/"
        },
        "id": "caEhaYTejq29",
        "outputId": "448c80d5-d4cc-4041-e580-a46c43c48910"
      },
      "execution_count": 1,
      "outputs": [
        {
          "output_type": "stream",
          "name": "stdout",
          "text": [
            "Mounted at /content/drive\n"
          ]
        }
      ]
    },
    {
      "cell_type": "code",
      "source": [
        "%cd \"/content/drive/MyDrive/Aplicaciones Avanzadas/DataBank\"\n",
        "!ls"
      ],
      "metadata": {
        "colab": {
          "base_uri": "https://localhost:8080/"
        },
        "id": "wAhpUl0Plice",
        "outputId": "c72bf3db-fa31-4140-d0ea-13e70a906db1"
      },
      "execution_count": 2,
      "outputs": [
        {
          "output_type": "stream",
          "name": "stdout",
          "text": [
            "/content/drive/MyDrive/Aplicaciones Avanzadas/DataBank\n",
            "fake_news_dataset.csv\n"
          ]
        }
      ]
    },
    {
      "cell_type": "code",
      "execution_count": 31,
      "metadata": {
        "id": "qfCxmKFT250h"
      },
      "outputs": [],
      "source": [
        "# Importación de librerías\n",
        "import tensorflow as tf\n",
        "import pandas as pd\n",
        "import numpy as np\n",
        "import matplotlib.pyplot as plt\n",
        "import seaborn as sns\n",
        "from sklearn.model_selection import train_test_split\n",
        "from sklearn.preprocessing import LabelEncoder\n",
        "from sklearn.preprocessing import StandardScaler\n",
        "from sklearn.feature_extraction.text import TfidfVectorizer\n",
        "\n",
        "%matplotlib inline"
      ]
    },
    {
      "cell_type": "markdown",
      "source": [
        "# Obtener el set de datos"
      ],
      "metadata": {
        "id": "5i_FK8NbmtFd"
      }
    },
    {
      "cell_type": "markdown",
      "source": [
        "Se obtuvo el dataset de noticias falsas de la plataforma Kaggle y se almacenó en Google Drive"
      ],
      "metadata": {
        "id": "oAj9QdqQk8ze"
      }
    },
    {
      "cell_type": "code",
      "source": [
        "# Lectura del archivo\n",
        "df = pd.read_csv('fake_news_dataset.csv')"
      ],
      "metadata": {
        "id": "-bhap1k4mza6"
      },
      "execution_count": 14,
      "outputs": []
    },
    {
      "cell_type": "code",
      "source": [
        "# Vista inicial del dataset\n",
        "print(df.head())\n",
        "print(df.info())\n",
        "print(df.isnull().sum())"
      ],
      "metadata": {
        "colab": {
          "base_uri": "https://localhost:8080/"
        },
        "id": "tchdz_7L4q5V",
        "outputId": "e4716fb0-1bcf-40ca-adff-c52088f4e185"
      },
      "execution_count": 15,
      "outputs": [
        {
          "output_type": "stream",
          "name": "stdout",
          "text": [
            "                                  title  \\\n",
            "0               Foreign Democrat final.   \n",
            "1   To offer down resource great point.   \n",
            "2          Himself church myself carry.   \n",
            "3                  You unit its should.   \n",
            "4  Billion believe employee summer how.   \n",
            "\n",
            "                                                text        date    source  \\\n",
            "0  more tax development both store agreement lawy...  2023-03-10  NY Times   \n",
            "1  probably guess western behind likely next inve...  2022-05-25  Fox News   \n",
            "2  them identify forward present success risk sev...  2022-09-01       CNN   \n",
            "3  phone which item yard Republican safe where po...  2023-02-07   Reuters   \n",
            "4  wonder myself fact difficult course forget exa...  2023-04-03       CNN   \n",
            "\n",
            "                 author    category label  \n",
            "0          Paula George    Politics  real  \n",
            "1           Joseph Hill    Politics  fake  \n",
            "2        Julia Robinson    Business  fake  \n",
            "3  Mr. David Foster DDS     Science  fake  \n",
            "4         Austin Walker  Technology  fake  \n",
            "<class 'pandas.core.frame.DataFrame'>\n",
            "RangeIndex: 20000 entries, 0 to 19999\n",
            "Data columns (total 7 columns):\n",
            " #   Column    Non-Null Count  Dtype \n",
            "---  ------    --------------  ----- \n",
            " 0   title     20000 non-null  object\n",
            " 1   text      20000 non-null  object\n",
            " 2   date      20000 non-null  object\n",
            " 3   source    19000 non-null  object\n",
            " 4   author    19000 non-null  object\n",
            " 5   category  20000 non-null  object\n",
            " 6   label     20000 non-null  object\n",
            "dtypes: object(7)\n",
            "memory usage: 1.1+ MB\n",
            "None\n",
            "title          0\n",
            "text           0\n",
            "date           0\n",
            "source      1000\n",
            "author      1000\n",
            "category       0\n",
            "label          0\n",
            "dtype: int64\n"
          ]
        }
      ]
    },
    {
      "cell_type": "code",
      "source": [
        "# Dimension del dataset (filas, columnas)\n",
        "df.shape"
      ],
      "metadata": {
        "colab": {
          "base_uri": "https://localhost:8080/"
        },
        "id": "yQ1fqKqmncsG",
        "outputId": "e1672d5a-31be-48f8-e062-4bc75d685ef2"
      },
      "execution_count": 16,
      "outputs": [
        {
          "output_type": "execute_result",
          "data": {
            "text/plain": [
              "(20000, 7)"
            ]
          },
          "metadata": {},
          "execution_count": 16
        }
      ]
    },
    {
      "cell_type": "markdown",
      "source": [
        "# Separación del set de pruebas y del set de entrenamiento"
      ],
      "metadata": {
        "id": "2bw7DFesorWl"
      }
    },
    {
      "cell_type": "markdown",
      "source": [
        "Dividimos el dataset para tener el conjunto que será para entrenamiento y el conjunto que será para pruebas (train y test)"
      ],
      "metadata": {
        "id": "6ORMt0PAwHZ3"
      }
    },
    {
      "cell_type": "markdown",
      "source": [
        "***Label Encoder***"
      ],
      "metadata": {
        "id": "tYcntxDvCTK8"
      }
    },
    {
      "cell_type": "markdown",
      "source": [
        "Para distinguir el target a binario,  se utilizará el Label encoder, ya que:\n",
        "\n",
        "*   Solo hay dos categorias (fake, real)\n",
        "*   Normaliza etiquetas en valores numéricos\n",
        "*   Se utiliza menos memoria\n"
      ],
      "metadata": {
        "id": "RdeLVGIG2Z3C"
      }
    },
    {
      "cell_type": "code",
      "source": [
        "target = df[\"label\"]\n",
        "le = LabelEncoder()\n",
        "train_label_data = le.fit_transform(target)"
      ],
      "metadata": {
        "id": "YETP2YlSxWVQ"
      },
      "execution_count": 21,
      "outputs": []
    },
    {
      "cell_type": "code",
      "source": [
        "# Rellenar valores nulos\n",
        "df = df.fillna('')\n",
        "\n",
        "# Combinación del título y texto de la noticia\n",
        "df['content'] = df['title'] + ' ' + df['text']\n",
        "\n",
        "# Features y etiquetas\n",
        "X = df['content']\n",
        "y = df['label']"
      ],
      "metadata": {
        "id": "uEpCvC7tnDwY"
      },
      "execution_count": 24,
      "outputs": []
    },
    {
      "cell_type": "code",
      "source": [
        "# 80% train y 20% test\n",
        "X_train, X_test, y_train, y_test = train_test_split(X, y, test_size=0.2, random_state=42)"
      ],
      "metadata": {
        "id": "ml3HdUPD-GCu"
      },
      "execution_count": 25,
      "outputs": []
    },
    {
      "cell_type": "markdown",
      "source": [
        "# Preprocesado de datos"
      ],
      "metadata": {
        "id": "BcFbnC31q1QR"
      }
    },
    {
      "cell_type": "markdown",
      "source": [
        "### Vectorización del texto (TF-IDF)"
      ],
      "metadata": {
        "id": "IHrWQ6imDAZb"
      }
    },
    {
      "cell_type": "code",
      "source": [
        "# Vectorización de los sets de prueba y de entrenamiento\n",
        "vectorizer = TfidfVectorizer(max_df=0.7)\n",
        "X_train_tfidf = vectorizer.fit_transform(X_train)\n",
        "X_test_tfidf = vectorizer.transform(X_test)\n"
      ],
      "metadata": {
        "id": "d_jUzMXC5ofl"
      },
      "execution_count": 33,
      "outputs": []
    },
    {
      "cell_type": "markdown",
      "source": [
        "El **StandardScaler** se utiliza para estandarizar los datos, es decir, para escalar las características de los datos de entrada de modo que tengan una media de 0 y una desviación estándar de 1."
      ],
      "metadata": {
        "id": "sDy-6aCWD3BE"
      }
    },
    {
      "cell_type": "markdown",
      "source": [
        "Como es una **matriz dispersa** en la que la mayoría de los valores son ceros (como las que suelen generarse al usar representaciones como TF-IDF en procesamiento de texto), se desactiva esta opción. Solo se toma en cuenta la desviación estandar. Se debe tener cuidado al escalar los datos para no romper su estructura dispersa."
      ],
      "metadata": {
        "id": "Cs5s1GbxEMuU"
      }
    },
    {
      "cell_type": "code",
      "source": [
        "scaler = StandardScaler(with_mean=False)  # with_mean=False porque es sparse matrix\n",
        "X_train_scaled = scaler.fit_transform(X_train_tfidf)\n",
        "X_test_scaled = scaler.transform(X_test_tfidf)\n"
      ],
      "metadata": {
        "id": "aIrHKuIdDgXa"
      },
      "execution_count": 32,
      "outputs": []
    }
  ]
}